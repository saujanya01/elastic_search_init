{
 "cells": [
  {
   "cell_type": "code",
   "execution_count": 56,
   "metadata": {},
   "outputs": [
    {
     "name": "stdout",
     "output_type": "stream",
     "text": [
      "All Modules Loaded\n"
     ]
    }
   ],
   "source": [
    "try:\n",
    "    import os\n",
    "    import sys\n",
    "    import elasticsearch\n",
    "\n",
    "    from elasticsearch import Elasticsearch\n",
    "    import pandas as pd\n",
    "\n",
    "    from elasticsearch import helpers\n",
    "\n",
    "    from pprint import pprint\n",
    "\n",
    "\n",
    "    print(\"All Modules Loaded\")\n",
    "\n",
    "except Exception as e:\n",
    "    print(\"Some Modules missing {}\".format(e))"
   ]
  },
  {
   "cell_type": "markdown",
   "metadata": {},
   "source": [
    "# Connecting to ES"
   ]
  },
  {
   "cell_type": "code",
   "execution_count": 3,
   "metadata": {},
   "outputs": [],
   "source": [
    "ELASTIC_PASSWORD = \"-nllMUvtzVwlTjd7WL51\"\n",
    "CERT_FINGERPRINT = \"A5:95:FB:52:FC:8C:BC:E5:2E:70:55:91:08:E4:78:E0:2E:D1:48:31:93:69:40:29:52:47:FF:48:95:12:6C:70\""
   ]
  },
  {
   "cell_type": "code",
   "execution_count": 4,
   "metadata": {},
   "outputs": [],
   "source": [
    "es = Elasticsearch(\n",
    "    \"https://localhost:9200\",\n",
    "    ca_certs=\"/Users/saujanyatiwari/codes/elasticsearch-8.3.2/config/certs/http_ca.crt\",\n",
    "    http_auth = (\"elastic\", ELASTIC_PASSWORD),\n",
    ")"
   ]
  },
  {
   "cell_type": "code",
   "execution_count": 5,
   "metadata": {},
   "outputs": [
    {
     "data": {
      "text/plain": [
       "True"
      ]
     },
     "execution_count": 5,
     "metadata": {},
     "output_type": "execute_result"
    }
   ],
   "source": [
    "es.ping()"
   ]
  },
  {
   "cell_type": "markdown",
   "metadata": {},
   "source": [
    "# Cresting an index"
   ]
  },
  {
   "cell_type": "code",
   "execution_count": 6,
   "metadata": {},
   "outputs": [
    {
     "data": {
      "text/plain": [
       "{'acknowledged': True, 'shards_acknowledged': True, 'index': 'my-foo'}"
      ]
     },
     "execution_count": 6,
     "metadata": {},
     "output_type": "execute_result"
    }
   ],
   "source": [
    "es.indices.create(index=\"my-foo\", ignore=400)"
   ]
  },
  {
   "cell_type": "code",
   "execution_count": 7,
   "metadata": {},
   "outputs": [
    {
     "name": "stdout",
     "output_type": "stream",
     "text": [
      ".kibana-event-log-8.3.2-000001\n",
      ".kibana_security_session_1\n",
      ".kibana_task_manager_8.3.2_001\n",
      ".apm-agent-configuration\n",
      ".kibana_8.3.2_001\n",
      ".security-7\n",
      "person\n",
      "my-foo\n",
      ".tasks\n",
      "kibana_sample_data_ecommerce\n",
      ".apm-custom-link\n",
      ".async-search\n"
     ]
    },
    {
     "name": "stderr",
     "output_type": "stream",
     "text": [
      "/opt/anaconda3/envs/elastic/lib/python3.9/site-packages/elasticsearch/connection/base.py:208: ElasticsearchWarning: this request accesses system indices: [.kibana_security_session_1, .kibana_task_manager_8.3.2_001, .apm-agent-configuration, .kibana_8.3.2_001, .security-7, .tasks, .apm-custom-link, .async-search], but in a future major version, direct access to system indices will be prevented by default\n",
      "  warnings.warn(message, category=ElasticsearchWarning)\n"
     ]
    }
   ],
   "source": [
    "res = es.indices.get_alias(\"\")\n",
    "for name in res:\n",
    "    print(name)"
   ]
  },
  {
   "cell_type": "code",
   "execution_count": 12,
   "metadata": {},
   "outputs": [
    {
     "data": {
      "text/plain": [
       "{'acknowledged': True}"
      ]
     },
     "execution_count": 12,
     "metadata": {},
     "output_type": "execute_result"
    }
   ],
   "source": [
    "es.indices.delete(index=\"my-foo\", ignore=[400, 404])"
   ]
  },
  {
   "cell_type": "markdown",
   "metadata": {},
   "source": [
    "# Upload to sample JSON DOC"
   ]
  },
  {
   "cell_type": "code",
   "execution_count": 13,
   "metadata": {},
   "outputs": [],
   "source": [
    "saujanya = {\n",
    "    \"name\": \"saujanya\",\n",
    "    \"company\": \"HyperVue AI\",\n",
    "    \"post\": \"FullStack\"\n",
    "}\n",
    "\n",
    "niti = {\n",
    "    \"name\": \"niti\",\n",
    "    \"company\": \"Canara Bank\",\n",
    "    \"post\": \"PO\"\n",
    "}"
   ]
  },
  {
   "cell_type": "code",
   "execution_count": 14,
   "metadata": {},
   "outputs": [
    {
     "data": {
      "text/plain": [
       "{'acknowledged': True, 'shards_acknowledged': True, 'index': 'person'}"
      ]
     },
     "execution_count": 14,
     "metadata": {},
     "output_type": "execute_result"
    }
   ],
   "source": [
    "es.indices.create(index = \"person\")"
   ]
  },
  {
   "cell_type": "code",
   "execution_count": 15,
   "metadata": {},
   "outputs": [],
   "source": [
    "saujanya_upload = es.index(\n",
    "    index=\"person\",\n",
    "    # doc_type= \"employee\",\n",
    "    body=saujanya,\n",
    "    id=1\n",
    ")"
   ]
  },
  {
   "cell_type": "code",
   "execution_count": 16,
   "metadata": {},
   "outputs": [
    {
     "data": {
      "text/plain": [
       "{'_index': 'person',\n",
       " '_id': '1',\n",
       " '_version': 1,\n",
       " 'result': 'created',\n",
       " '_shards': {'total': 2, 'successful': 1, 'failed': 0},\n",
       " '_seq_no': 0,\n",
       " '_primary_term': 1}"
      ]
     },
     "execution_count": 16,
     "metadata": {},
     "output_type": "execute_result"
    }
   ],
   "source": [
    "saujanya_upload"
   ]
  },
  {
   "cell_type": "code",
   "execution_count": 17,
   "metadata": {},
   "outputs": [],
   "source": [
    "niti_upload = es.index(\n",
    "    index=\"person\",\n",
    "    body=niti,\n",
    "    id=2\n",
    ")"
   ]
  },
  {
   "cell_type": "code",
   "execution_count": 18,
   "metadata": {},
   "outputs": [
    {
     "data": {
      "text/plain": [
       "{'_index': 'person',\n",
       " '_id': '2',\n",
       " '_version': 1,\n",
       " 'result': 'created',\n",
       " '_shards': {'total': 2, 'successful': 1, 'failed': 0},\n",
       " '_seq_no': 1,\n",
       " '_primary_term': 1}"
      ]
     },
     "execution_count": 18,
     "metadata": {},
     "output_type": "execute_result"
    }
   ],
   "source": [
    "niti_upload"
   ]
  },
  {
   "cell_type": "markdown",
   "metadata": {},
   "source": [
    "## Bulk Upload in Elastic search cluster"
   ]
  },
  {
   "cell_type": "code",
   "execution_count": 30,
   "metadata": {},
   "outputs": [
    {
     "data": {
      "text/html": [
       "<div>\n",
       "<style scoped>\n",
       "    .dataframe tbody tr th:only-of-type {\n",
       "        vertical-align: middle;\n",
       "    }\n",
       "\n",
       "    .dataframe tbody tr th {\n",
       "        vertical-align: top;\n",
       "    }\n",
       "\n",
       "    .dataframe thead th {\n",
       "        text-align: right;\n",
       "    }\n",
       "</style>\n",
       "<table border=\"1\" class=\"dataframe\">\n",
       "  <thead>\n",
       "    <tr style=\"text-align: right;\">\n",
       "      <th></th>\n",
       "      <th>show_id</th>\n",
       "      <th>type</th>\n",
       "      <th>title</th>\n",
       "      <th>director</th>\n",
       "      <th>cast</th>\n",
       "      <th>country</th>\n",
       "      <th>date_added</th>\n",
       "      <th>release_year</th>\n",
       "      <th>rating</th>\n",
       "      <th>duration</th>\n",
       "      <th>listed_in</th>\n",
       "      <th>description</th>\n",
       "    </tr>\n",
       "  </thead>\n",
       "  <tbody>\n",
       "    <tr>\n",
       "      <th>0</th>\n",
       "      <td>s1</td>\n",
       "      <td>Movie</td>\n",
       "      <td>The Grand Seduction</td>\n",
       "      <td>Don McKellar</td>\n",
       "      <td>Brendan Gleeson, Taylor Kitsch, Gordon Pinsent</td>\n",
       "      <td>Canada</td>\n",
       "      <td>March 30, 2021</td>\n",
       "      <td>2014</td>\n",
       "      <td>NaN</td>\n",
       "      <td>113 min</td>\n",
       "      <td>Comedy, Drama</td>\n",
       "      <td>A small fishing village must procure a local d...</td>\n",
       "    </tr>\n",
       "    <tr>\n",
       "      <th>1</th>\n",
       "      <td>s2</td>\n",
       "      <td>Movie</td>\n",
       "      <td>Take Care Good Night</td>\n",
       "      <td>Girish Joshi</td>\n",
       "      <td>Mahesh Manjrekar, Abhay Mahajan, Sachin Khedekar</td>\n",
       "      <td>India</td>\n",
       "      <td>March 30, 2021</td>\n",
       "      <td>2018</td>\n",
       "      <td>13+</td>\n",
       "      <td>110 min</td>\n",
       "      <td>Drama, International</td>\n",
       "      <td>A Metro Family decides to fight a Cyber Crimin...</td>\n",
       "    </tr>\n",
       "    <tr>\n",
       "      <th>2</th>\n",
       "      <td>s3</td>\n",
       "      <td>Movie</td>\n",
       "      <td>Secrets of Deception</td>\n",
       "      <td>Josh Webber</td>\n",
       "      <td>Tom Sizemore, Lorenzo Lamas, Robert LaSardo, R...</td>\n",
       "      <td>United States</td>\n",
       "      <td>March 30, 2021</td>\n",
       "      <td>2017</td>\n",
       "      <td>NaN</td>\n",
       "      <td>74 min</td>\n",
       "      <td>Action, Drama, Suspense</td>\n",
       "      <td>After a man discovers his wife is cheating on ...</td>\n",
       "    </tr>\n",
       "    <tr>\n",
       "      <th>3</th>\n",
       "      <td>s4</td>\n",
       "      <td>Movie</td>\n",
       "      <td>Pink: Staying True</td>\n",
       "      <td>Sonia Anderson</td>\n",
       "      <td>Interviews with: Pink, Adele, Beyoncé, Britney...</td>\n",
       "      <td>United States</td>\n",
       "      <td>March 30, 2021</td>\n",
       "      <td>2014</td>\n",
       "      <td>NaN</td>\n",
       "      <td>69 min</td>\n",
       "      <td>Documentary</td>\n",
       "      <td>Pink breaks the mold once again, bringing her ...</td>\n",
       "    </tr>\n",
       "    <tr>\n",
       "      <th>4</th>\n",
       "      <td>s5</td>\n",
       "      <td>Movie</td>\n",
       "      <td>Monster Maker</td>\n",
       "      <td>Giles Foster</td>\n",
       "      <td>Harry Dean Stanton, Kieran O'Brien, George Cos...</td>\n",
       "      <td>United Kingdom</td>\n",
       "      <td>March 30, 2021</td>\n",
       "      <td>1989</td>\n",
       "      <td>NaN</td>\n",
       "      <td>45 min</td>\n",
       "      <td>Drama, Fantasy</td>\n",
       "      <td>Teenage Matt Banting wants to work with a famo...</td>\n",
       "    </tr>\n",
       "  </tbody>\n",
       "</table>\n",
       "</div>"
      ],
      "text/plain": [
       "  show_id   type                 title        director  \\\n",
       "0      s1  Movie   The Grand Seduction    Don McKellar   \n",
       "1      s2  Movie  Take Care Good Night    Girish Joshi   \n",
       "2      s3  Movie  Secrets of Deception     Josh Webber   \n",
       "3      s4  Movie    Pink: Staying True  Sonia Anderson   \n",
       "4      s5  Movie         Monster Maker    Giles Foster   \n",
       "\n",
       "                                                cast         country  \\\n",
       "0     Brendan Gleeson, Taylor Kitsch, Gordon Pinsent          Canada   \n",
       "1   Mahesh Manjrekar, Abhay Mahajan, Sachin Khedekar           India   \n",
       "2  Tom Sizemore, Lorenzo Lamas, Robert LaSardo, R...   United States   \n",
       "3  Interviews with: Pink, Adele, Beyoncé, Britney...   United States   \n",
       "4  Harry Dean Stanton, Kieran O'Brien, George Cos...  United Kingdom   \n",
       "\n",
       "       date_added  release_year rating duration                listed_in  \\\n",
       "0  March 30, 2021          2014    NaN  113 min            Comedy, Drama   \n",
       "1  March 30, 2021          2018    13+  110 min     Drama, International   \n",
       "2  March 30, 2021          2017    NaN   74 min  Action, Drama, Suspense   \n",
       "3  March 30, 2021          2014    NaN   69 min              Documentary   \n",
       "4  March 30, 2021          1989    NaN   45 min           Drama, Fantasy   \n",
       "\n",
       "                                         description  \n",
       "0  A small fishing village must procure a local d...  \n",
       "1  A Metro Family decides to fight a Cyber Crimin...  \n",
       "2  After a man discovers his wife is cheating on ...  \n",
       "3  Pink breaks the mold once again, bringing her ...  \n",
       "4  Teenage Matt Banting wants to work with a famo...  "
      ]
     },
     "execution_count": 30,
     "metadata": {},
     "output_type": "execute_result"
    }
   ],
   "source": [
    "df = pd.read_csv(\"./amazon_prime_titles.csv\")\n",
    "df.head(5)"
   ]
  },
  {
   "cell_type": "code",
   "execution_count": 31,
   "metadata": {},
   "outputs": [],
   "source": [
    "del df[\"date_added\"]\n",
    "del df[\"country\"]"
   ]
  },
  {
   "cell_type": "code",
   "execution_count": 32,
   "metadata": {},
   "outputs": [
    {
     "data": {
      "text/plain": [
       "show_id            0\n",
       "type               0\n",
       "title              0\n",
       "director        2082\n",
       "cast            1233\n",
       "release_year       0\n",
       "rating           337\n",
       "duration           0\n",
       "listed_in          0\n",
       "description        0\n",
       "dtype: int64"
      ]
     },
     "execution_count": 32,
     "metadata": {},
     "output_type": "execute_result"
    }
   ],
   "source": [
    "df.isna().sum()"
   ]
  },
  {
   "cell_type": "code",
   "execution_count": 33,
   "metadata": {},
   "outputs": [],
   "source": [
    "df = df.dropna()"
   ]
  },
  {
   "cell_type": "code",
   "execution_count": 34,
   "metadata": {},
   "outputs": [
    {
     "data": {
      "text/plain": [
       "show_id         0\n",
       "type            0\n",
       "title           0\n",
       "director        0\n",
       "cast            0\n",
       "release_year    0\n",
       "rating          0\n",
       "duration        0\n",
       "listed_in       0\n",
       "description     0\n",
       "dtype: int64"
      ]
     },
     "execution_count": 34,
     "metadata": {},
     "output_type": "execute_result"
    }
   ],
   "source": [
    "df.isna().sum()"
   ]
  },
  {
   "cell_type": "code",
   "execution_count": 35,
   "metadata": {},
   "outputs": [
    {
     "data": {
      "text/plain": [
       "(6646, 10)"
      ]
     },
     "execution_count": 35,
     "metadata": {},
     "output_type": "execute_result"
    }
   ],
   "source": [
    "df.shape"
   ]
  },
  {
   "cell_type": "code",
   "execution_count": 38,
   "metadata": {},
   "outputs": [],
   "source": [
    "df_dict = df.to_dict(\"records\")"
   ]
  },
  {
   "cell_type": "code",
   "execution_count": 40,
   "metadata": {},
   "outputs": [
    {
     "data": {
      "text/plain": [
       "{'show_id': 's2',\n",
       " 'type': 'Movie',\n",
       " 'title': 'Take Care Good Night',\n",
       " 'director': 'Girish Joshi',\n",
       " 'cast': 'Mahesh Manjrekar, Abhay Mahajan, Sachin Khedekar',\n",
       " 'release_year': 2018,\n",
       " 'rating': '13+',\n",
       " 'duration': '110 min',\n",
       " 'listed_in': 'Drama, International',\n",
       " 'description': 'A Metro Family decides to fight a Cyber Criminal threatening their stability and pride.'}"
      ]
     },
     "execution_count": 40,
     "metadata": {},
     "output_type": "execute_result"
    }
   ],
   "source": [
    "df_dict[0]"
   ]
  },
  {
   "cell_type": "markdown",
   "metadata": {},
   "source": [
    "### Convert data into ELK format"
   ]
  },
  {
   "cell_type": "code",
   "execution_count": 42,
   "metadata": {},
   "outputs": [],
   "source": [
    "def generator(df):\n",
    "    for i, data in enumerate(df):\n",
    "        yield {\n",
    "            \"_index\": \"amazon_prime\",\n",
    "            \"_id\": data.get(\"show_id\", None),\n",
    "            \"_source\": {\n",
    "                \"title\": data.get(\"title\", \"\"),\n",
    "                \"type\": data.get(\"type\", \"\"),\n",
    "                \"director\": data.get(\"director\", \"\"),\n",
    "                \"cast\": data.get(\"cast\", \"\")\n",
    "            }\n",
    "        }\n",
    "    raise StopIteration"
   ]
  },
  {
   "cell_type": "code",
   "execution_count": 43,
   "metadata": {},
   "outputs": [],
   "source": [
    "data_for_elk = generator(df.to_dict(\"records\"))"
   ]
  },
  {
   "cell_type": "code",
   "execution_count": 45,
   "metadata": {},
   "outputs": [
    {
     "data": {
      "text/plain": [
       "{'_index': 'amazon_prime',\n",
       " '_id': 's17',\n",
       " '_source': {'title': 'Zoombies',\n",
       "  'type': 'Movie',\n",
       "  'director': 'Glenn Miller',\n",
       "  'cast': 'Marcus Anderson, Kaiwi Lyman, Andrew Asper'}}"
      ]
     },
     "execution_count": 45,
     "metadata": {},
     "output_type": "execute_result"
    }
   ],
   "source": [
    "next(data_for_elk)"
   ]
  },
  {
   "cell_type": "markdown",
   "metadata": {},
   "source": [
    "### Settings and mapping"
   ]
  },
  {
   "cell_type": "code",
   "execution_count": 46,
   "metadata": {},
   "outputs": [],
   "source": [
    "settings = {\n",
    "    \"settings\": {\n",
    "        \"number_of_replicas\": 0,\n",
    "        \"number_of_shards\": 1\n",
    "    },\n",
    "    \"mappings\": {\n",
    "        \"properties\": {\n",
    "            \"type\": {\n",
    "                \"type\": \"text\",\n",
    "            },\n",
    "            \"cast\": {\n",
    "                \"type\": \"text\"\n",
    "            }\n",
    "        }\n",
    "    }\n",
    "}"
   ]
  },
  {
   "cell_type": "code",
   "execution_count": 51,
   "metadata": {},
   "outputs": [],
   "source": [
    "amazon_index = es.indices.create(index=\"amazon_prime\", body=settings)"
   ]
  },
  {
   "cell_type": "code",
   "execution_count": 52,
   "metadata": {},
   "outputs": [
    {
     "data": {
      "text/plain": [
       "{'acknowledged': True, 'shards_acknowledged': True, 'index': 'amazon_prime'}"
      ]
     },
     "execution_count": 52,
     "metadata": {},
     "output_type": "execute_result"
    }
   ],
   "source": [
    "amazon_index"
   ]
  },
  {
   "cell_type": "code",
   "execution_count": 54,
   "metadata": {},
   "outputs": [
    {
     "name": "stdout",
     "output_type": "stream",
     "text": [
      "generator raised StopIteration\n"
     ]
    }
   ],
   "source": [
    "try:\n",
    "    res = helpers.bulk(es, generator(df_dict))\n",
    "except Exception as e:\n",
    "    print(e)\n",
    "    pass"
   ]
  },
  {
   "cell_type": "code",
   "execution_count": 57,
   "metadata": {},
   "outputs": [
    {
     "name": "stdout",
     "output_type": "stream",
     "text": [
      "{'.apm-agent-configuration': {'aliases': {}},\n",
      " '.apm-custom-link': {'aliases': {}},\n",
      " '.async-search': {'aliases': {}},\n",
      " '.kibana-event-log-8.3.2-000001': {'aliases': {'.kibana-event-log-8.3.2': {'is_hidden': True,\n",
      "                                                                            'is_write_index': True}}},\n",
      " '.kibana_8.3.2_001': {'aliases': {'.kibana': {'is_hidden': True},\n",
      "                                   '.kibana_8.3.2': {'is_hidden': True}}},\n",
      " '.kibana_security_session_1': {'aliases': {}},\n",
      " '.kibana_task_manager_8.3.2_001': {'aliases': {'.kibana_task_manager': {'is_hidden': True},\n",
      "                                                '.kibana_task_manager_8.3.2': {'is_hidden': True}}},\n",
      " '.security-7': {'aliases': {'.security': {'is_hidden': True}}},\n",
      " '.tasks': {'aliases': {}},\n",
      " 'kibana_sample_data_ecommerce': {'aliases': {}},\n",
      " 'my-foo': {'aliases': {}},\n",
      " 'person': {'aliases': {}}}\n"
     ]
    }
   ],
   "source": [
    "pprint(res)"
   ]
  },
  {
   "cell_type": "markdown",
   "metadata": {},
   "source": [
    "## Querying"
   ]
  },
  {
   "cell_type": "markdown",
   "metadata": {},
   "source": [
    "## MATCH\n",
    "\n",
    "### match_phrase = Matches the exact phrase\n",
    "\n",
    "`GET amazon_prime/_search\n",
    "{\n",
    "  \"_source\": [\"title\", \"cast\", \"director\"],\n",
    "  \"size\": 2000,\n",
    "  \"query\": {\n",
    "    \"match_phrase\": {\n",
    "      \"title\": \"one great love\"\n",
    "    }\n",
    "  }\n",
    "}`\n",
    "\n",
    "### match = matches with document having any one of the words in query\n",
    "\n",
    "`\n",
    "GET amazon_prime/_search\n",
    "{\n",
    "  \"_source\": [\"title\", \"cast\", \"director\"],\n",
    "  \"size\": 2000,\n",
    "  \"query\": {\n",
    "    \"match\": {\n",
    "      \"title\": \"love great one\"\n",
    "    }\n",
    "  }\n",
    "}\n",
    "`"
   ]
  },
  {
   "cell_type": "markdown",
   "metadata": {},
   "source": [
    "## AGGREGATION\n",
    "\n",
    "###"
   ]
  },
  {
   "cell_type": "code",
   "execution_count": 1,
   "metadata": {},
   "outputs": [
    {
     "name": "stdout",
     "output_type": "stream",
     "text": [
      "[('2021', '02', '01'), ('2021', '02', '02'), ('2021', '02', '03'), ('2021', '02', '04'), ('2021', '02', '05'), ('2021', '02', '06'), ('2021', '02', '07'), ('2021', '02', '08'), ('2021', '02', '09'), ('2021', '02', '10'), ('2021', '02', '11'), ('2021', '02', '12'), ('2021', '02', 13), ('2021', '02', 14), ('2021', '02', 15), ('2021', '02', 16), ('2021', '02', 17), ('2021', '02', 18), ('2021', '02', 19), ('2021', '02', 20), ('2021', '02', 21), ('2021', '02', 22), ('2021', '02', 23), ('2021', '02', 24), ('2021', '02', 25), ('2021', '02', 26), ('2021', '02', 27), ('2021', '02', 28), ('2021', '03', '01'), ('2021', '03', '02'), ('2021', '03', '03'), ('2021', '03', '04'), ('2021', '03', '05'), ('2021', '03', '06'), ('2021', '03', '07'), ('2021', '03', '08'), ('2021', '03', '09'), ('2021', '03', '10'), ('2021', '03', '11'), ('2021', '03', '12'), ('2021', '03', 13), ('2021', '03', 14), ('2021', '03', 15), ('2021', '03', 16), ('2021', '03', 17), ('2021', '03', 18), ('2021', '03', 19), ('2021', '03', 20), ('2021', '03', 21), ('2021', '03', 22), ('2021', '03', 23), ('2021', '03', 24), ('2021', '03', 25), ('2021', '03', 26), ('2021', '03', 27), ('2021', '03', 28), ('2021', '04', '01'), ('2021', '04', '02'), ('2021', '04', '03'), ('2021', '04', '04'), ('2021', '04', '05'), ('2021', '04', '06'), ('2021', '04', '07'), ('2021', '04', '08'), ('2021', '04', '09'), ('2021', '04', '10'), ('2021', '04', '11'), ('2021', '04', '12'), ('2021', '04', 13), ('2021', '04', 14), ('2021', '04', 15), ('2021', '04', 16), ('2021', '04', 17), ('2021', '04', 18), ('2021', '04', 19), ('2021', '04', 20), ('2021', '04', 21), ('2021', '04', 22), ('2021', '04', 23), ('2021', '04', 24), ('2021', '04', 25), ('2021', '04', 26), ('2021', '04', 27), ('2021', '04', 28)]\n"
     ]
    }
   ],
   "source": [
    "from datetime import datetime, timedelta\n",
    "from itertools import product\n",
    "\n",
    "years = ['2019', '2020', '2021']\n",
    "months = [\"01\", \"02\", \"03\", \"04\", \"05\", \"06\", \"07\", \"08\", \"09\", \"10\", \"11\", \"12\"]\n",
    "days = months + list(range(13, 29))\n",
    "# days = [\"01\"]\n",
    "years = ['2021'] # change til 2021\n",
    "indexes = []\n",
    "\n",
    "datetime_now = datetime.utcnow()\n",
    "past_three_months = datetime_now - timedelta(days=2 * 29)\n",
    "# past_three_months = datetime_now\n",
    "# past_three_months = past_three_months.replace(day=1)\n",
    "months_till_to_delete = '{:02d}'.format(past_three_months.month)\n",
    "for y, m, d in product(years, months, days):\n",
    "    # if m in [\"01\", \"02\", \"03\", \"04\", \"05\", \"06\", \"07\", \"08\", \"09\", \"10\", \"11\", \"12\"] and y == \"2019\":\n",
    "    #     continue\n",
    "    if y == \"2021\" and m in [\"01\"]:\n",
    "        continue\n",
    "    if m == months_till_to_delete and y == \"2021\":\n",
    "        break\n",
    "    indexes.append((y, m, d))\n",
    "print(indexes)\n",
    "indexes.reverse()"
   ]
  },
  {
   "cell_type": "code",
   "execution_count": 4,
   "metadata": {},
   "outputs": [
    {
     "data": {
      "text/plain": [
       "datetime.datetime(2022, 5, 27, 17, 32, 22, 141507)"
      ]
     },
     "execution_count": 4,
     "metadata": {},
     "output_type": "execute_result"
    }
   ],
   "source": [
    "past_three_months"
   ]
  },
  {
   "cell_type": "code",
   "execution_count": null,
   "metadata": {},
   "outputs": [],
   "source": []
  }
 ],
 "metadata": {
  "kernelspec": {
   "display_name": "Python 3.9.12 ('elastic')",
   "language": "python",
   "name": "python3"
  },
  "language_info": {
   "codemirror_mode": {
    "name": "ipython",
    "version": 3
   },
   "file_extension": ".py",
   "mimetype": "text/x-python",
   "name": "python",
   "nbconvert_exporter": "python",
   "pygments_lexer": "ipython3",
   "version": "3.9.12"
  },
  "orig_nbformat": 4,
  "vscode": {
   "interpreter": {
    "hash": "2bc59a18fb5ff1405588aad19f7d7dbfcfd17a1d5d7e72ea9680ea597841d2f2"
   }
  }
 },
 "nbformat": 4,
 "nbformat_minor": 2
}
